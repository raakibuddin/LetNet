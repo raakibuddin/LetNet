{
 "cells": [
  {
   "cell_type": "code",
   "execution_count": 1,
   "id": "1a47092d-4089-4284-b28e-a4f148c17e61",
   "metadata": {},
   "outputs": [],
   "source": [
    "import numpy as np\n",
    "\n",
    "import os\n",
    "import glob #tqdm\n",
    "from sklearn import preprocessing\n",
    "from sklearn.preprocessing import *\n",
    "from sklearn.model_selection import train_test_split\n",
    "from sklearn.preprocessing import OneHotEncoder, LabelEncoder\n",
    "from tensorflow.keras.utils import to_categorical\n",
    "\n",
    "# Neural Network\n",
    "import tensorflow as tf\n",
    "from tensorflow.keras.layers import Conv2D, Dense, AveragePooling2D, Flatten\n",
    "from tensorflow.keras.optimizers import SGD\n",
    "from tensorflow.keras.models import Sequential, load_model\n",
    "\n",
    "# visualization\n",
    "import matplotlib.pyplot as plt\n",
    "%matplotlib inline\n",
    "\n",
    "# OpenCV\n",
    "import cv2\n",
    "\n",
    "#Warnings\n",
    "import warnings\n",
    "warnings.filterwarnings(\"ignore\")"
   ]
  },
  {
   "cell_type": "code",
   "execution_count": 6,
   "id": "6b0dcfa0-fd10-4b16-a836-60ee17991bd3",
   "metadata": {},
   "outputs": [],
   "source": [
    "testimageDatasetspath = \"Datasets/train/train\"\n",
    "datasetsNamesTest = os.listdir(testimageDatasetspath)"
   ]
  },
  {
   "cell_type": "code",
   "execution_count": 7,
   "id": "5faef79c-9b50-44c3-9f3b-30bd082c123d",
   "metadata": {},
   "outputs": [
    {
     "data": {
      "text/plain": [
       "[74, 64, 32, 23, 94, 28, 58, 36, 22, 33, 8, 43, 0, 51, 15, 46, 49, 5, 11, 35]"
      ]
     },
     "execution_count": 7,
     "metadata": {},
     "output_type": "execute_result"
    }
   ],
   "source": [
    "a = list(np.random.randint(0, 100, size = 20))\n",
    "a"
   ]
  },
  {
   "cell_type": "code",
   "execution_count": 8,
   "id": "ae4024a0-dd06-44a2-aeeb-cb13440e17f2",
   "metadata": {},
   "outputs": [
    {
     "data": {
      "text/plain": [
       "array(['cat.0.jpg', 'cat.1.jpg', 'cat.10.jpg', ..., 'dog.9997.jpg',\n",
       "       'dog.9998.jpg', 'dog.9999.jpg'], dtype='<U13')"
      ]
     },
     "execution_count": 8,
     "metadata": {},
     "output_type": "execute_result"
    }
   ],
   "source": [
    "np.unique(datasetsNamesTest)"
   ]
  },
  {
   "cell_type": "code",
   "execution_count": 9,
   "id": "b95d3ccb-df20-4ffb-b3de-9cefae5ed195",
   "metadata": {},
   "outputs": [
    {
     "data": {
      "text/plain": [
       "24997"
      ]
     },
     "execution_count": 9,
     "metadata": {},
     "output_type": "execute_result"
    }
   ],
   "source": [
    "datasetsNamesTest.index(\"dog.9997.jpg\")"
   ]
  },
  {
   "cell_type": "code",
   "execution_count": 10,
   "id": "93d9cb94-e1db-4bc2-8d7f-e00bf71cc396",
   "metadata": {},
   "outputs": [
    {
     "data": {
      "text/plain": [
       "'dog.9997.jpg'"
      ]
     },
     "execution_count": 10,
     "metadata": {},
     "output_type": "execute_result"
    }
   ],
   "source": [
    "datasetsNamesTest[24997]"
   ]
  },
  {
   "cell_type": "code",
   "execution_count": 11,
   "id": "dae38a1a-9c32-42b5-9982-f43086b514fa",
   "metadata": {},
   "outputs": [],
   "source": [
    "image_width = 28\n",
    "image_height = 28"
   ]
  },
  {
   "cell_type": "code",
   "execution_count": 12,
   "id": "049b468e-6f66-40a7-bca5-3b1b0361a5c0",
   "metadata": {},
   "outputs": [],
   "source": [
    "def imageFeatureExtract(image, size = (28, 28)):\n",
    "    img = cv2.resize(image, size)\n",
    "    gray = cv2.cvtColor(img, cv2.COLOR_RGB2GRAY)\n",
    "    gray = np.expand_dims(gray, 2)#(28, 28, 1)\n",
    "    return gray"
   ]
  },
  {
   "cell_type": "code",
   "execution_count": 13,
   "id": "8507e6c6-ad2f-42e5-8a4f-f73c5cf7a817",
   "metadata": {},
   "outputs": [],
   "source": [
    "#testimageDatasetspath = \"Datasets/train/cat.100.jpg\""
   ]
  },
  {
   "cell_type": "code",
   "execution_count": 20,
   "id": "8e00f4d6-a664-4ec1-9bb5-c80c3f9f6b5a",
   "metadata": {},
   "outputs": [],
   "source": [
    "Datasetspath = \"Datasets/train/train\"\n",
    "datasetPath = os.path.join(Datasetspath, \"*g\")\n",
    "fileRead = glob.glob(datasetPath)\n",
    "\n",
    "data = []\n",
    "category_or_class = []\n",
    "\n",
    "for (i, file) in enumerate(fileRead):\n",
    "    image = cv2.imread(file)\n",
    "    feature = imageFeatureExtract(image)\n",
    "    data.append(feature)\n",
    "    classNames = file.split(os.path.sep)[-1].split(\".\")[0]\n",
    "    category_or_class.append(classNames)"
   ]
  },
  {
   "cell_type": "code",
   "execution_count": 22,
   "id": "bf749183-7a94-41e0-8300-92d322b79325",
   "metadata": {},
   "outputs": [
    {
     "ename": "AttributeError",
     "evalue": "'list' object has no attribute 'shape'",
     "output_type": "error",
     "traceback": [
      "\u001b[1;31m---------------------------------------------------------------------------\u001b[0m",
      "\u001b[1;31mAttributeError\u001b[0m                            Traceback (most recent call last)",
      "\u001b[1;32m~\\AppData\\Local\\Temp\\ipykernel_2264\\3993293784.py\u001b[0m in \u001b[0;36m<module>\u001b[1;34m\u001b[0m\n\u001b[1;32m----> 1\u001b[1;33m \u001b[0mdata\u001b[0m\u001b[1;33m.\u001b[0m\u001b[0mshape\u001b[0m\u001b[1;33m\u001b[0m\u001b[1;33m\u001b[0m\u001b[0m\n\u001b[0m",
      "\u001b[1;31mAttributeError\u001b[0m: 'list' object has no attribute 'shape'"
     ]
    }
   ],
   "source": [
    "data.shape"
   ]
  },
  {
   "cell_type": "code",
   "execution_count": 25,
   "id": "86d93496-f30e-4afc-97d1-97dcce2858bb",
   "metadata": {},
   "outputs": [],
   "source": [
    "# Datasets Scalling\n",
    "data = np.array(data, dtype = np.uint8)\n",
    "labels = np.array(category_or_class)"
   ]
  },
  {
   "cell_type": "code",
   "execution_count": 26,
   "id": "938fca9e-e2da-4afd-b919-ce7284d01f26",
   "metadata": {},
   "outputs": [
    {
     "data": {
      "text/plain": [
       "(25000, 28, 28, 1)"
      ]
     },
     "execution_count": 26,
     "metadata": {},
     "output_type": "execute_result"
    }
   ],
   "source": [
    "data.shape"
   ]
  },
  {
   "cell_type": "code",
   "execution_count": 27,
   "id": "9049ed2a-31f7-4ce4-aed6-488c71d4badd",
   "metadata": {},
   "outputs": [
    {
     "data": {
      "text/plain": [
       "array(['cat', 'dog'], dtype='<U3')"
      ]
     },
     "execution_count": 27,
     "metadata": {},
     "output_type": "execute_result"
    }
   ],
   "source": [
    "np.unique(category_or_class)"
   ]
  },
  {
   "cell_type": "code",
   "execution_count": 28,
   "id": "e1afea41-e6cb-4a1d-92d8-6ba621fecd57",
   "metadata": {},
   "outputs": [
    {
     "data": {
      "text/plain": [
       "25000"
      ]
     },
     "execution_count": 28,
     "metadata": {},
     "output_type": "execute_result"
    }
   ],
   "source": [
    "len(data)"
   ]
  },
  {
   "cell_type": "code",
   "execution_count": 29,
   "id": "118b20b4-ab48-4d9a-8caa-9fc50bfc74ca",
   "metadata": {},
   "outputs": [
    {
     "data": {
      "text/plain": [
       "25000"
      ]
     },
     "execution_count": 29,
     "metadata": {},
     "output_type": "execute_result"
    }
   ],
   "source": [
    "len(category_or_class)"
   ]
  },
  {
   "cell_type": "code",
   "execution_count": 30,
   "id": "3dd26dbe-41b9-489f-b1f9-4517ca8e9c34",
   "metadata": {},
   "outputs": [
    {
     "data": {
      "text/plain": [
       "list"
      ]
     },
     "execution_count": 30,
     "metadata": {},
     "output_type": "execute_result"
    }
   ],
   "source": [
    "type(category_or_class)"
   ]
  },
  {
   "cell_type": "markdown",
   "id": "043fd78d-e908-4648-beaa-761e05ae614d",
   "metadata": {},
   "source": [
    "#### Step 01: Label Encoder"
   ]
  },
  {
   "cell_type": "code",
   "execution_count": 31,
   "id": "bff0f24b-621b-40c8-a658-4e2d498a148a",
   "metadata": {},
   "outputs": [],
   "source": [
    "labels  = np.array(category_or_class)\n",
    "label_Encoder = LabelEncoder()\n",
    "#label_Encoder = preprocessing.LabelEncoder\n",
    "classNames = label_Encoder.fit_transform(labels)"
   ]
  },
  {
   "cell_type": "code",
   "execution_count": 32,
   "id": "a58334ed-01c9-442f-a213-5cf0fa3e03f5",
   "metadata": {},
   "outputs": [
    {
     "data": {
      "text/plain": [
       "array([0, 1], dtype=int64)"
      ]
     },
     "execution_count": 32,
     "metadata": {},
     "output_type": "execute_result"
    }
   ],
   "source": [
    "np.unique(classNames)"
   ]
  },
  {
   "cell_type": "code",
   "execution_count": 33,
   "id": "f901909e-efd6-4b0c-8222-120a9aec0eca",
   "metadata": {},
   "outputs": [
    {
     "data": {
      "text/plain": [
       "(25000,)"
      ]
     },
     "execution_count": 33,
     "metadata": {},
     "output_type": "execute_result"
    }
   ],
   "source": [
    "classNames.shape"
   ]
  },
  {
   "cell_type": "code",
   "execution_count": 34,
   "id": "2d573dc8-c415-46f0-8c74-151d1cc8df05",
   "metadata": {},
   "outputs": [
    {
     "data": {
      "text/plain": [
       "0"
      ]
     },
     "execution_count": 34,
     "metadata": {},
     "output_type": "execute_result"
    }
   ],
   "source": [
    "classNames[0]"
   ]
  },
  {
   "cell_type": "markdown",
   "id": "ccb6215b-41f3-4ffd-bf83-02093e089548",
   "metadata": {},
   "source": [
    "#### Step 02: OneHotEncoding"
   ]
  },
  {
   "cell_type": "code",
   "execution_count": 35,
   "id": "d4a2a7e6-0873-4f41-9771-61b3d728254b",
   "metadata": {},
   "outputs": [],
   "source": [
    "oneHotEncoder = OneHotEncoder(sparse = False)\n",
    "label_EncoderValue = classNames.reshape(len(classNames), 1)\n",
    "oneHotEncoderValues = oneHotEncoder.fit_transform(label_EncoderValue)"
   ]
  },
  {
   "cell_type": "code",
   "execution_count": 36,
   "id": "9e7296e6-3570-4922-a826-d6cc027fbcc7",
   "metadata": {},
   "outputs": [],
   "source": [
    "#help(OneHotEncoder() )"
   ]
  },
  {
   "cell_type": "code",
   "execution_count": 37,
   "id": "6b7ed206-846d-481c-9ba5-a64929bbc7b2",
   "metadata": {},
   "outputs": [
    {
     "data": {
      "text/plain": [
       "array([[1., 0.],\n",
       "       [1., 0.],\n",
       "       [1., 0.],\n",
       "       ...,\n",
       "       [0., 1.],\n",
       "       [0., 1.],\n",
       "       [0., 1.]])"
      ]
     },
     "execution_count": 37,
     "metadata": {},
     "output_type": "execute_result"
    }
   ],
   "source": [
    "oneHotEncoderValues"
   ]
  },
  {
   "cell_type": "code",
   "execution_count": 38,
   "id": "22b6788a-16d9-4e2b-9c49-dd52a9c449a6",
   "metadata": {},
   "outputs": [],
   "source": [
    "# data = [\"Cats\", \"Dogs\", \"Birds\"]\n",
    "# np.array([[1., 0., 0],\n",
    "#        [0., 1., 0.],\n",
    "#        [0., 0., 1.]])"
   ]
  },
  {
   "cell_type": "code",
   "execution_count": 39,
   "id": "b68b5f96-a65a-4d15-90c1-f32b71e3d4b8",
   "metadata": {},
   "outputs": [],
   "source": [
    "(X_train, X_test, Y_train, Y_test) = train_test_split(data, oneHotEncoderValues, test_size=0.2, random_state=42)"
   ]
  },
  {
   "cell_type": "code",
   "execution_count": 40,
   "id": "7c9e487d-bde7-4efe-87d1-47a0b4e7a238",
   "metadata": {},
   "outputs": [],
   "source": [
    "model = Sequential() # Empty \n",
    "\n",
    "# 1st layer\n",
    "model.add(Conv2D(6,kernel_size = (5, 5), strides = (1, 1), activation = \"tanh\", input_shape = (28, 28, 1), padding = \"same\"))\n",
    "model.add(AveragePooling2D(pool_size = (2, 2), strides = (2, 2), padding = \"valid\"))\n",
    "\n",
    "# 2nd Layer\n",
    "model.add(Conv2D(16,kernel_size = (5, 5), strides = (1, 1), activation = \"tanh\", padding = \"valid\"))\n",
    "model.add(AveragePooling2D(pool_size = (2, 2), strides = (2, 2), padding = \"valid\"))\n",
    "\n",
    "# Flatten Layer\n",
    "model.add(Flatten())\n",
    "\n",
    "# Output Layer\n",
    "model.add(Dense(120, activation = \"tanh\"))\n",
    "model.add(Dense(84, activation = \"tanh\"))\n",
    "model.add(Dense(2, activation = \"softmax\"))"
   ]
  },
  {
   "cell_type": "code",
   "execution_count": 41,
   "id": "283f76bc-1b9e-4aab-a528-3fbb573f16ef",
   "metadata": {},
   "outputs": [],
   "source": [
    "model.compile(optimizer = \"adam\",\n",
    "             loss = \"categorical_crossentropy\",\n",
    "             metrics = [\"accuracy\"])"
   ]
  },
  {
   "cell_type": "code",
   "execution_count": 42,
   "id": "17c9c3db-d78f-4537-92d2-14f3dab4ab6c",
   "metadata": {},
   "outputs": [
    {
     "name": "stdout",
     "output_type": "stream",
     "text": [
      "Model: \"sequential\"\n",
      "_________________________________________________________________\n",
      " Layer (type)                Output Shape              Param #   \n",
      "=================================================================\n",
      " conv2d (Conv2D)             (None, 28, 28, 6)         156       \n",
      "                                                                 \n",
      " average_pooling2d (AverageP  (None, 14, 14, 6)        0         \n",
      " ooling2D)                                                       \n",
      "                                                                 \n",
      " conv2d_1 (Conv2D)           (None, 10, 10, 16)        2416      \n",
      "                                                                 \n",
      " average_pooling2d_1 (Averag  (None, 5, 5, 16)         0         \n",
      " ePooling2D)                                                     \n",
      "                                                                 \n",
      " flatten (Flatten)           (None, 400)               0         \n",
      "                                                                 \n",
      " dense (Dense)               (None, 120)               48120     \n",
      "                                                                 \n",
      " dense_1 (Dense)             (None, 84)                10164     \n",
      "                                                                 \n",
      " dense_2 (Dense)             (None, 2)                 170       \n",
      "                                                                 \n",
      "=================================================================\n",
      "Total params: 61,026\n",
      "Trainable params: 61,026\n",
      "Non-trainable params: 0\n",
      "_________________________________________________________________\n"
     ]
    }
   ],
   "source": [
    "model.summary()"
   ]
  },
  {
   "cell_type": "code",
   "execution_count": 43,
   "id": "bd54ba13-850e-454d-8fb9-f73bb44fa2b6",
   "metadata": {},
   "outputs": [],
   "source": [
    "# history = model.fit(X_train, Y_train,\n",
    "# epochs=                  epochs=10,\n",
    "#                    validation_data = (X_test, Y_test), \n",
    "#                     verbose = 0)"
   ]
  },
  {
   "cell_type": "code",
   "execution_count": 44,
   "id": "d392d837-03d4-4f5c-bbc6-28dcdeedfb1e",
   "metadata": {},
   "outputs": [
    {
     "name": "stdout",
     "output_type": "stream",
     "text": [
      "Epoch 1/10\n",
      "625/625 [==============================] - 12s 18ms/step - loss: 0.6673 - accuracy: 0.5975 - val_loss: 0.6525 - val_accuracy: 0.6122\n",
      "Epoch 2/10\n",
      "625/625 [==============================] - 11s 17ms/step - loss: 0.6302 - accuracy: 0.6447 - val_loss: 0.6386 - val_accuracy: 0.6362\n",
      "Epoch 3/10\n",
      "625/625 [==============================] - 11s 17ms/step - loss: 0.6076 - accuracy: 0.6689 - val_loss: 0.6387 - val_accuracy: 0.6346\n",
      "Epoch 4/10\n",
      "625/625 [==============================] - 11s 17ms/step - loss: 0.6069 - accuracy: 0.6702 - val_loss: 0.6040 - val_accuracy: 0.6716\n",
      "Epoch 5/10\n",
      "625/625 [==============================] - 11s 17ms/step - loss: 0.5844 - accuracy: 0.6884 - val_loss: 0.6287 - val_accuracy: 0.6484\n",
      "Epoch 6/10\n",
      "625/625 [==============================] - 11s 17ms/step - loss: 0.5678 - accuracy: 0.7066 - val_loss: 0.5981 - val_accuracy: 0.6774\n",
      "Epoch 7/10\n",
      "625/625 [==============================] - 11s 17ms/step - loss: 0.5505 - accuracy: 0.7194 - val_loss: 0.6000 - val_accuracy: 0.6760\n",
      "Epoch 8/10\n",
      "625/625 [==============================] - 11s 17ms/step - loss: 0.5362 - accuracy: 0.7290 - val_loss: 0.5917 - val_accuracy: 0.6866\n",
      "Epoch 9/10\n",
      "625/625 [==============================] - 11s 17ms/step - loss: 0.5205 - accuracy: 0.7419 - val_loss: 0.5890 - val_accuracy: 0.6868\n",
      "Epoch 10/10\n",
      "625/625 [==============================] - 11s 17ms/step - loss: 0.4960 - accuracy: 0.7598 - val_loss: 0.5980 - val_accuracy: 0.6892\n"
     ]
    },
    {
     "data": {
      "text/plain": [
       "<keras.callbacks.History at 0x278b67c9688>"
      ]
     },
     "execution_count": 44,
     "metadata": {},
     "output_type": "execute_result"
    }
   ],
   "source": [
    "model.fit(X_train, Y_train,\n",
    "          epochs = 10,\n",
    "          validation_data = (X_test, Y_test), \n",
    "          verbose = 1)"
   ]
  },
  {
   "cell_type": "code",
   "execution_count": 45,
   "id": "d773bc83-acd2-4626-858a-2494388d6eed",
   "metadata": {},
   "outputs": [],
   "source": [
    "class LeNet_Model(Sequential):\n",
    "    \n",
    "    def __init__(self, input_shape, number_class):\n",
    "        super().__init__()\n",
    "        \n",
    "        # 1st layer\n",
    "        self.add(Conv2D(6,kernel_size = (5, 5), strides = (1, 1), activation = \"tanh\", input_shape = input_shape, padding = \"same\"))\n",
    "        self.add(AveragePooling2D(pool_size = (2, 2), strides = (2, 2), padding = \"valid\"))\n",
    "\n",
    "        # 2nd Layer\n",
    "        self.add(Conv2D(16,kernel_size = (5, 5), strides = (1, 1), activation = \"tanh\", padding = \"valid\"))\n",
    "        self.add(AveragePooling2D(pool_size = (2, 2), strides = (2, 2), padding = \"valid\"))\n",
    "\n",
    "        # Flatten Layer\n",
    "        self.add(Flatten())\n",
    "\n",
    "        # Output Layer\n",
    "        self.add(Dense(120, activation = \"tanh\"))\n",
    "        self.add(Dense(84, activation = \"tanh\"))\n",
    "        self.add(Dense(number_class, activation = \"softmax\"))\n",
    "        \n",
    "        self.compile(optimizer = \"adam\",\n",
    "             loss = \"categorical_crossentropy\",\n",
    "             metrics = [\"accuracy\"])\n",
    "        "
   ]
  },
  {
   "cell_type": "code",
   "execution_count": 46,
   "id": "0ada3fd6-fdc2-4dab-b750-e8e25a08b5e0",
   "metadata": {},
   "outputs": [],
   "source": [
    "input_shapes = X_train[0].shape\n",
    "number_class = len(np.unique(labels))"
   ]
  },
  {
   "cell_type": "code",
   "execution_count": 47,
   "id": "4e2cbd67-5d3b-4ba3-906c-5dfec4a1a52d",
   "metadata": {},
   "outputs": [],
   "source": [
    "myModel = LeNet_Model(input_shapes, number_class)"
   ]
  },
  {
   "cell_type": "code",
   "execution_count": 48,
   "id": "0cb1189a-4ffb-46d6-8321-225e098f4eb7",
   "metadata": {},
   "outputs": [
    {
     "name": "stdout",
     "output_type": "stream",
     "text": [
      "Model: \"le_net__model\"\n",
      "_________________________________________________________________\n",
      " Layer (type)                Output Shape              Param #   \n",
      "=================================================================\n",
      " conv2d_2 (Conv2D)           (None, 28, 28, 6)         156       \n",
      "                                                                 \n",
      " average_pooling2d_2 (Averag  (None, 14, 14, 6)        0         \n",
      " ePooling2D)                                                     \n",
      "                                                                 \n",
      " conv2d_3 (Conv2D)           (None, 10, 10, 16)        2416      \n",
      "                                                                 \n",
      " average_pooling2d_3 (Averag  (None, 5, 5, 16)         0         \n",
      " ePooling2D)                                                     \n",
      "                                                                 \n",
      " flatten_1 (Flatten)         (None, 400)               0         \n",
      "                                                                 \n",
      " dense_3 (Dense)             (None, 120)               48120     \n",
      "                                                                 \n",
      " dense_4 (Dense)             (None, 84)                10164     \n",
      "                                                                 \n",
      " dense_5 (Dense)             (None, 2)                 170       \n",
      "                                                                 \n",
      "=================================================================\n",
      "Total params: 61,026\n",
      "Trainable params: 61,026\n",
      "Non-trainable params: 0\n",
      "_________________________________________________________________\n"
     ]
    }
   ],
   "source": [
    "myModel.summary()"
   ]
  },
  {
   "cell_type": "code",
   "execution_count": 49,
   "id": "036eda26-2fba-4f1f-91cb-fcbbc2318eaa",
   "metadata": {},
   "outputs": [],
   "source": [
    "import datetime\n",
    "logsData = \"logs/fit/\" + datetime.datetime.now().strftime(\"%Y%m%d-%H%M%S\")\n",
    "callbacks = tf.keras.callbacks.TensorBoard(log_dir = logsData, histogram_freq = 1)"
   ]
  },
  {
   "cell_type": "code",
   "execution_count": 50,
   "id": "f89bca43-0e92-4e81-ae96-056a82dc6125",
   "metadata": {},
   "outputs": [
    {
     "name": "stdout",
     "output_type": "stream",
     "text": [
      "Epoch 1/10\n",
      "625/625 [==============================] - 11s 18ms/step - loss: 0.4739 - accuracy: 0.7735 - val_loss: 0.6272 - val_accuracy: 0.6826\n",
      "Epoch 2/10\n",
      "625/625 [==============================] - 11s 18ms/step - loss: 0.4557 - accuracy: 0.7858 - val_loss: 0.6180 - val_accuracy: 0.6868\n",
      "Epoch 3/10\n",
      "625/625 [==============================] - 11s 17ms/step - loss: 0.4322 - accuracy: 0.7978 - val_loss: 0.6221 - val_accuracy: 0.6890\n",
      "Epoch 4/10\n",
      "625/625 [==============================] - 11s 17ms/step - loss: 0.4024 - accuracy: 0.8177 - val_loss: 0.6391 - val_accuracy: 0.6864\n",
      "Epoch 5/10\n",
      "625/625 [==============================] - 11s 17ms/step - loss: 0.3793 - accuracy: 0.8291 - val_loss: 0.6684 - val_accuracy: 0.6846\n",
      "Epoch 6/10\n",
      "625/625 [==============================] - 11s 17ms/step - loss: 0.3534 - accuracy: 0.8438 - val_loss: 0.6830 - val_accuracy: 0.6834\n",
      "Epoch 7/10\n",
      "625/625 [==============================] - 11s 18ms/step - loss: 0.3257 - accuracy: 0.8618 - val_loss: 0.7177 - val_accuracy: 0.6858\n",
      "Epoch 8/10\n",
      "625/625 [==============================] - 11s 17ms/step - loss: 0.2987 - accuracy: 0.8740 - val_loss: 0.7529 - val_accuracy: 0.6886\n",
      "Epoch 9/10\n",
      "625/625 [==============================] - 11s 18ms/step - loss: 0.2667 - accuracy: 0.8906 - val_loss: 0.7721 - val_accuracy: 0.6810\n",
      "Epoch 10/10\n",
      "625/625 [==============================] - 11s 18ms/step - loss: 0.2392 - accuracy: 0.9034 - val_loss: 0.7936 - val_accuracy: 0.6850\n"
     ]
    }
   ],
   "source": [
    "history = model.fit(X_train, Y_train,\n",
    "          epochs = 10,\n",
    "          validation_data = (X_test, Y_test),\n",
    "          callbacks=[callbacks],\n",
    "          verbose = 1)"
   ]
  },
  {
   "cell_type": "code",
   "execution_count": 52,
   "id": "16d09e66-3118-4c9c-940c-15c5bc3093aa",
   "metadata": {},
   "outputs": [],
   "source": [
    "#%load_ext tensorboard"
   ]
  },
  {
   "cell_type": "code",
   "execution_count": 53,
   "id": "d69d767a-6fdd-49bf-879e-a56c2ad5db5b",
   "metadata": {},
   "outputs": [],
   "source": [
    "#%tensorboard --logdir logs/fit"
   ]
  },
  {
   "cell_type": "code",
   "execution_count": 54,
   "id": "b4016896-b2e0-473c-b6b4-8e2085416785",
   "metadata": {},
   "outputs": [],
   "source": [
    "model.save(\"Models/CatsAndDogs.h5\")"
   ]
  },
  {
   "cell_type": "code",
   "execution_count": 55,
   "id": "c9a33887-4b48-4601-bbe5-8980ec9ab871",
   "metadata": {},
   "outputs": [],
   "source": [
    "class_data = [\"cat\", 'dog']\n",
    "saveModelData = load_model(\"Models/CatsAndDogs.h5\")"
   ]
  },
  {
   "cell_type": "code",
   "execution_count": 58,
   "id": "b529f791-4572-46f6-933a-ba3d3b0121b1",
   "metadata": {},
   "outputs": [],
   "source": [
    "testImageData = cv2.imread(\"Datasets/test/test/10266.jpg\")\n",
    "testImageDataFeature = imageFeatureExtract(testImageData)/255.0\n",
    "testImageDataFeature = np.array([testImageDataFeature])"
   ]
  },
  {
   "cell_type": "code",
   "execution_count": 59,
   "id": "cc908eb6-7b8a-417c-bc04-27496e3f2cd5",
   "metadata": {},
   "outputs": [
    {
     "data": {
      "text/plain": [
       "(1, 28, 28, 1)"
      ]
     },
     "execution_count": 59,
     "metadata": {},
     "output_type": "execute_result"
    }
   ],
   "source": [
    "testImageDataFeature.shape"
   ]
  },
  {
   "cell_type": "code",
   "execution_count": 60,
   "id": "0df56aae-570b-493a-b6e0-0e7e9b3fe738",
   "metadata": {},
   "outputs": [
    {
     "name": "stdout",
     "output_type": "stream",
     "text": [
      "1/1 [==============================] - 0s 131ms/step\n"
     ]
    }
   ],
   "source": [
    "predict = saveModelData.predict(testImageDataFeature)[0]"
   ]
  },
  {
   "cell_type": "code",
   "execution_count": 61,
   "id": "1e91f632-fd37-4417-bbd1-b6af3ea4a0fa",
   "metadata": {},
   "outputs": [
    {
     "name": "stdout",
     "output_type": "stream",
     "text": [
      "1/1 [==============================] - 0s 24ms/step\n"
     ]
    }
   ],
   "source": [
    "probability = saveModelData.predict(testImageDataFeature)"
   ]
  },
  {
   "cell_type": "code",
   "execution_count": 62,
   "id": "be019e03-e1df-43d9-bb0f-d19be7c15af0",
   "metadata": {},
   "outputs": [
    {
     "data": {
      "text/plain": [
       "0"
      ]
     },
     "execution_count": 62,
     "metadata": {},
     "output_type": "execute_result"
    }
   ],
   "source": [
    "probabilityMaximum = predict.argmax(axis = 0)\n",
    "probabilityMaximum"
   ]
  },
  {
   "cell_type": "code",
   "execution_count": 63,
   "id": "175ac0be-2989-4b4a-b970-256060d5f836",
   "metadata": {},
   "outputs": [
    {
     "data": {
      "image/png": "[encoded data removed]",
      "text/plain": [
       "<Figure size 432x288 with 1 Axes>"
      ]
     },
     "metadata": {
      "needs_background": "light"
     },
     "output_type": "display_data"
    }
   ],
   "source": [
    "imageDataLabels = \"{}: {:.2f}%\".format(class_data[probabilityMaximum], predict[probabilityMaximum]*100)\n",
    "cv2.putText(testImageData, imageDataLabels, (10, 35), cv2.FONT_HERSHEY_SIMPLEX, 1.0, (0, 255, 0), 3)\n",
    "\n",
    "plt.imshow(testImageData, cmap = \"gray\")\n",
    "plt.show()"
   ]
  },
  {
   "cell_type": "code",
   "execution_count": null,
   "id": "f6f39f5b-2199-49ca-ab0e-15eaa19f151b",
   "metadata": {},
   "outputs": [],
   "source": []
  }
 ],
 "metadata": {
  "kernelspec": {
   "display_name": "Python 3 (ipykernel)",
   "language": "python",
   "name": "python3"
  },
  "language_info": {
   "codemirror_mode": {
    "name": "ipython",
    "version": 3
   },
   "file_extension": ".py",
   "mimetype": "text/x-python",
   "name": "python",
   "nbconvert_exporter": "python",
   "pygments_lexer": "ipython3",
   "version": "3.7.13"
  }
 },
 "nbformat": 4,
 "nbformat_minor": 5
}
